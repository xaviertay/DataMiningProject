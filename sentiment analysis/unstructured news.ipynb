{
 "cells": [
  {
   "cell_type": "code",
   "execution_count": 1,
   "metadata": {},
   "outputs": [
    {
     "data": {
      "text/plain": [
       "<Response [200]>"
      ]
     },
     "execution_count": 1,
     "metadata": {},
     "output_type": "execute_result"
    }
   ],
   "source": [
    "from bs4 import BeautifulSoup\n",
    "import requests\n",
    "page = requests.get(\"https://www.theguardian.com/us-news/us-weather\")\n",
    "page"
   ]
  },
  {
   "cell_type": "code",
   "execution_count": 2,
   "metadata": {},
   "outputs": [
    {
     "name": "stdout",
     "output_type": "stream",
     "text": [
      "<li class=\"fc-slice__item l-row__item l-row__item--span-1 u-faux-block-link\">\n",
      " <div class=\"fc-item fc-item--force-image-upgrade fc-item--has-image fc-item--has-metadata fc-item--has-timestamp fc-item--is-commentable fc-item--pillar-news fc-item--type-feature js-fc-item fc-item--list-media-mobile fc-item--third-tablet js-snappable\" data-discussion-closed=\"true\" data-discussion-id=\"/p/czy46\" data-discussion-url=\"https://www.theguardian.com/news/2019/dec/04/weatherwatch-winter-storms-and-strong-winds-sweep-us#comments\" data-id=\"news/2019/dec/04/weatherwatch-winter-storms-and-strong-winds-sweep-us\" data-item-visibility=\"all\" data-link-name=\"feature | group-0 | card-@1\" data-loyalty-short-url=\"/p/czy46\" data-test-id=\"facia-card\">\n",
      "  <div class=\"fc-item__container\">\n",
      "   <div class=\"fc-item__media-wrapper\">\n",
      "    <div class=\"fc-item__image-container u-responsive-ratio inlined-image\">\n",
      "     <picture>\n",
      "      <!--[if IE 9]><video style=\"display: none;\"><![endif]-->\n",
      "      <source 600w=\"\" media=\"(min-width: 980px) and (-webkit-min-device-pixel-ratio: 1.25), (min-width: 980px) and (min-resolution: 120dpi)\" sizes=\"300px\" srcset=\"https://i.guim.co.uk/img/media/aa160c3d11774102e3d6e0e0c4f079f682c3a760/0_323_4928_2957/master/4928.jpg?width=300&amp;quality=45&amp;auto=format&amp;fit=max&amp;dpr=2&amp;s=fea2adf8cab857ffcd27847f5c1034be\"/>\n",
      "      <source media=\"(min-width: 980px)\" sizes=\"300px\" srcset=\"https://i.guim.co.uk/img/media/aa160c3d11774102e3d6e0e0c4f079f682c3a760/0_323_4928_2957/master/4928.jpg?width=300&amp;quality=85&amp;auto=format&amp;fit=max&amp;s=1feabb170f7398c5044f67411384f1ca 300w\"/>\n",
      "      <source 440w=\"\" media=\"(min-width: 740px) and (-webkit-min-device-pixel-ratio: 1.25), (min-width: 740px) and (min-resolution: 120dpi)\" sizes=\"220px\" srcset=\"https://i.guim.co.uk/img/media/aa160c3d11774102e3d6e0e0c4f079f682c3a760/0_323_4928_2957/master/4928.jpg?width=220&amp;quality=45&amp;auto=format&amp;fit=max&amp;dpr=2&amp;s=0730ae8ea1690b84d773418949ff6c46\"/>\n",
      "      <source media=\"(min-width: 740px)\" sizes=\"220px\" srcset=\"https://i.guim.co.uk/img/media/aa160c3d11774102e3d6e0e0c4f079f682c3a760/0_323_4928_2957/master/4928.jpg?width=220&amp;quality=85&amp;auto=format&amp;fit=max&amp;s=5571a25b550b655777ca91e5b47881ed 220w\"/>\n",
      "      <source 254w=\"\" media=\"(min-width: 0px) and (-webkit-min-device-pixel-ratio: 1.25), (min-width: 0px) and (min-resolution: 120dpi)\" sizes=\"127px\" srcset=\"https://i.guim.co.uk/img/media/aa160c3d11774102e3d6e0e0c4f079f682c3a760/0_323_4928_2957/master/4928.jpg?width=127&amp;quality=45&amp;auto=format&amp;fit=max&amp;dpr=2&amp;s=bd813ae1e23711ca239a84cdd98e563b\"/>\n",
      "      <source media=\"(min-width: 0px)\" sizes=\"127px\" srcset=\"https://i.guim.co.uk/img/media/aa160c3d11774102e3d6e0e0c4f079f682c3a760/0_323_4928_2957/master/4928.jpg?width=127&amp;quality=85&amp;auto=format&amp;fit=max&amp;s=f92277bb1f6cf603b15a2406127101ee 127w\"/>\n",
      "      <!--[if IE 9]></video><![endif]-->\n",
      "      <img alt=\"\" class=\"responsive-img\" loading=\"lazy\" src=\"https://i.guim.co.uk/img/media/aa160c3d11774102e3d6e0e0c4f079f682c3a760/0_323_4928_2957/master/4928.jpg?width=300&amp;quality=85&amp;auto=format&amp;fit=max&amp;s=1feabb170f7398c5044f67411384f1ca\"/>\n",
      "     </picture>\n",
      "    </div>\n",
      "   </div>\n",
      "   <div class=\"fc-item__content\">\n",
      "    <div class=\"fc-item__header\">\n",
      "     <h3 class=\"fc-item__title\">\n",
      "      <a class=\"fc-item__link\" data-link-name=\"article\" href=\"https://www.theguardian.com/news/2019/dec/04/weatherwatch-winter-storms-and-strong-winds-sweep-us\">\n",
      "       <span class=\"fc-item__kicker\">\n",
      "        Weatherwatch\n",
      "       </span>\n",
      "       <span class=\"u-faux-block-link__cta fc-item__headline\">\n",
      "        <span class=\"js-headline-text\">\n",
      "         Weatherwatch: winter storms and strong winds sweep US\n",
      "        </span>\n",
      "       </span>\n",
      "      </a>\n",
      "     </h3>\n",
      "    </div>\n",
      "    <div class=\"fc-item__standfirst-wrapper fc-item__standfirst-wrapper--timestamp\">\n",
      "     <div class=\"fc-item__meta js-item__meta\">\n",
      "      <time class=\"fc-item__timestamp\" data-relativeformat=\"short\" data-timestamp=\"1575495000000\" datetime=\"2019-12-04T21:30:00+0000\">\n",
      "       <span class=\"inline-clock inline-icon\">\n",
      "        <svg class=\"inline-clock__svg inline-icon__svg\" height=\"11\" viewbox=\"0 0 11 11\" width=\"11\">\n",
      "         <path d=\"M5.4 0C2.4 0 0 2.4 0 5.4s2.4 5.4 5.4 5.4 5.4-2.4 5.4-5.4S8.4 0 5.4 0zm3 6.8H4.7V1.7h.7L6 5.4l2.4.6v.8z\">\n",
      "         </path>\n",
      "        </svg>\n",
      "       </span>\n",
      "       <span class=\"fc-timestamp__text\">\n",
      "        <span class=\"u-h\">\n",
      "         Published:\n",
      "        </span>\n",
      "        4 Dec 2019\n",
      "       </span>\n",
      "      </time>\n",
      "     </div>\n",
      "    </div>\n",
      "   </div>\n",
      "   <a aria-hidden=\"true\" class=\"u-faux-block-link__overlay js-headline-text\" data-link-name=\"article\" href=\"https://www.theguardian.com/news/2019/dec/04/weatherwatch-winter-storms-and-strong-winds-sweep-us\" tabindex=\"-1\">\n",
      "    Weatherwatch: winter storms and strong winds sweep US\n",
      "   </a>\n",
      "  </div>\n",
      " </div>\n",
      "</li>\n",
      "\n"
     ]
    }
   ],
   "source": [
    "soup = BeautifulSoup(page.content, 'html.parser')\n",
    "all_news = soup.find('div',class_='u-cf index-page')\n",
    "news_box = all_news.find_all(class_=\"fc-slice__item l-row__item l-row__item--span-1 u-faux-block-link\")\n",
    "news = news_box[0]\n",
    "print(news.prettify())"
   ]
  },
  {
   "cell_type": "code",
   "execution_count": 3,
   "metadata": {},
   "outputs": [
    {
     "data": {
      "text/plain": [
       "['Weatherwatch: winter storms and strong winds sweep US',\n",
       " 'New England: travel havoc and school closures as winter storm persists',\n",
       " 'Thanksgiving storm brings snow, sleet and wind to most of the US',\n",
       " 'Deadly storm disrupting Thanksgiving travel across US hits north-east',\n",
       " 'Powerful storm threatens travel for millions heading home after Thanksgiving',\n",
       " \"Parts of US brace for heavy snow as storm system to bring 'weather hazards'\",\n",
       " 'Thanksgiving weather: storms now threaten post-holiday travel',\n",
       " \"'Bomb cyclone' storm expected to upend Thanksgiving travel\",\n",
       " 'Millions set for Thanksgiving disruption as storms sweep across US',\n",
       " 'Arctic blast grips eastern US as cities reach record low temperatures',\n",
       " 'Air from Siberia to send temperatures plunging from Texas to New England',\n",
       " 'Governor says California could take over PG&E after wildfires linked to utility',\n",
       " 'Weatherwatch: Greek storms, US heatwave and Hurricane Lorenzo',\n",
       " 'Weatherwatch: the popularity of the old-fashioned forecaster',\n",
       " 'Major snow dump in western states brings taste of winter to September',\n",
       " \"Weatherwatch: why slow-motion natural disasters don't make the news\",\n",
       " \"Top weather official who defended 'Sharpiegate' makes tearful clarification\",\n",
       " \"'Sharpiegate': meteorologists upset as weather agency defends Trump's Alabama claim\",\n",
       " \"Hurricane Dorian: 70,000 in 'immediate need of lifesaving' help in Bahamas – as it happened\",\n",
       " \"'Everything is destroyed': 30 dead in Bahamas as Dorian lashes North Carolina\"]"
      ]
     },
     "execution_count": 3,
     "metadata": {},
     "output_type": "execute_result"
    }
   ],
   "source": [
    "title_list = all_news.find_all(class_=\"js-headline-text\")\n",
    "titles = [tt.get_text() for tt in title_list]\n",
    "unique_title = list(dict.fromkeys(titles))\n",
    "unique_title"
   ]
  },
  {
   "cell_type": "code",
   "execution_count": 4,
   "metadata": {},
   "outputs": [
    {
     "data": {
      "text/plain": [
       "['  4 Dec 2019 ',\n",
       " '  3 Dec 2019 ',\n",
       " '  2 Dec 2019 ',\n",
       " '  1 Dec 2019 ',\n",
       " '  30 Nov 2019 ',\n",
       " '  29 Nov 2019 ',\n",
       " '  28 Nov 2019 ',\n",
       " '  27 Nov 2019 ',\n",
       " '  26 Nov 2019 ',\n",
       " '  13 Nov 2019 ',\n",
       " '  9 Nov 2019 ',\n",
       " '  2 Nov 2019 ',\n",
       " '  9 Oct 2019 ',\n",
       " '  4 Oct 2019 ',\n",
       " '  30 Sep 2019 ',\n",
       " '  16 Sep 2019 ',\n",
       " '  10 Sep 2019 ',\n",
       " '  7 Sep 2019 ',\n",
       " '  6 Sep 2019 ',\n",
       " '  6 Sep 2019 ']"
      ]
     },
     "execution_count": 4,
     "metadata": {},
     "output_type": "execute_result"
    }
   ],
   "source": [
    "date_list = all_news.find_all(class_=\"fc-timestamp__text\")\n",
    "date=[]\n",
    "for array in date_list:\n",
    "    array = array.get_text().replace(u'Published:', u'')\n",
    "    date.append(array)\n",
    "date"
   ]
  },
  {
   "cell_type": "code",
   "execution_count": 5,
   "metadata": {},
   "outputs": [
    {
     "name": "stdout",
     "output_type": "stream",
     "text": [
      "20\n",
      "20\n"
     ]
    }
   ],
   "source": [
    "print(len(date))\n",
    "print(len(unique_title))"
   ]
  },
  {
   "cell_type": "code",
   "execution_count": 6,
   "metadata": {},
   "outputs": [
    {
     "data": {
      "text/html": [
       "<div>\n",
       "<style scoped>\n",
       "    .dataframe tbody tr th:only-of-type {\n",
       "        vertical-align: middle;\n",
       "    }\n",
       "\n",
       "    .dataframe tbody tr th {\n",
       "        vertical-align: top;\n",
       "    }\n",
       "\n",
       "    .dataframe thead th {\n",
       "        text-align: right;\n",
       "    }\n",
       "</style>\n",
       "<table border=\"1\" class=\"dataframe\">\n",
       "  <thead>\n",
       "    <tr style=\"text-align: right;\">\n",
       "      <th></th>\n",
       "      <th>title</th>\n",
       "      <th>date</th>\n",
       "    </tr>\n",
       "  </thead>\n",
       "  <tbody>\n",
       "    <tr>\n",
       "      <th>0</th>\n",
       "      <td>Weatherwatch: winter storms and strong winds s...</td>\n",
       "      <td>4 Dec 2019</td>\n",
       "    </tr>\n",
       "    <tr>\n",
       "      <th>1</th>\n",
       "      <td>New England: travel havoc and school closures ...</td>\n",
       "      <td>3 Dec 2019</td>\n",
       "    </tr>\n",
       "    <tr>\n",
       "      <th>2</th>\n",
       "      <td>Thanksgiving storm brings snow, sleet and wind...</td>\n",
       "      <td>2 Dec 2019</td>\n",
       "    </tr>\n",
       "    <tr>\n",
       "      <th>3</th>\n",
       "      <td>Deadly storm disrupting Thanksgiving travel ac...</td>\n",
       "      <td>1 Dec 2019</td>\n",
       "    </tr>\n",
       "    <tr>\n",
       "      <th>4</th>\n",
       "      <td>Powerful storm threatens travel for millions h...</td>\n",
       "      <td>30 Nov 2019</td>\n",
       "    </tr>\n",
       "    <tr>\n",
       "      <th>5</th>\n",
       "      <td>Parts of US brace for heavy snow as storm syst...</td>\n",
       "      <td>29 Nov 2019</td>\n",
       "    </tr>\n",
       "    <tr>\n",
       "      <th>6</th>\n",
       "      <td>Thanksgiving weather: storms now threaten post...</td>\n",
       "      <td>28 Nov 2019</td>\n",
       "    </tr>\n",
       "    <tr>\n",
       "      <th>7</th>\n",
       "      <td>'Bomb cyclone' storm expected to upend Thanksg...</td>\n",
       "      <td>27 Nov 2019</td>\n",
       "    </tr>\n",
       "    <tr>\n",
       "      <th>8</th>\n",
       "      <td>Millions set for Thanksgiving disruption as st...</td>\n",
       "      <td>26 Nov 2019</td>\n",
       "    </tr>\n",
       "    <tr>\n",
       "      <th>9</th>\n",
       "      <td>Arctic blast grips eastern US as cities reach ...</td>\n",
       "      <td>13 Nov 2019</td>\n",
       "    </tr>\n",
       "    <tr>\n",
       "      <th>10</th>\n",
       "      <td>Air from Siberia to send temperatures plunging...</td>\n",
       "      <td>9 Nov 2019</td>\n",
       "    </tr>\n",
       "    <tr>\n",
       "      <th>11</th>\n",
       "      <td>Governor says California could take over PG&amp;E ...</td>\n",
       "      <td>2 Nov 2019</td>\n",
       "    </tr>\n",
       "    <tr>\n",
       "      <th>12</th>\n",
       "      <td>Weatherwatch: Greek storms, US heatwave and Hu...</td>\n",
       "      <td>9 Oct 2019</td>\n",
       "    </tr>\n",
       "    <tr>\n",
       "      <th>13</th>\n",
       "      <td>Weatherwatch: the popularity of the old-fashio...</td>\n",
       "      <td>4 Oct 2019</td>\n",
       "    </tr>\n",
       "    <tr>\n",
       "      <th>14</th>\n",
       "      <td>Major snow dump in western states brings taste...</td>\n",
       "      <td>30 Sep 2019</td>\n",
       "    </tr>\n",
       "    <tr>\n",
       "      <th>15</th>\n",
       "      <td>Weatherwatch: why slow-motion natural disaster...</td>\n",
       "      <td>16 Sep 2019</td>\n",
       "    </tr>\n",
       "    <tr>\n",
       "      <th>16</th>\n",
       "      <td>Top weather official who defended 'Sharpiegate...</td>\n",
       "      <td>10 Sep 2019</td>\n",
       "    </tr>\n",
       "    <tr>\n",
       "      <th>17</th>\n",
       "      <td>'Sharpiegate': meteorologists upset as weather...</td>\n",
       "      <td>7 Sep 2019</td>\n",
       "    </tr>\n",
       "    <tr>\n",
       "      <th>18</th>\n",
       "      <td>Hurricane Dorian: 70,000 in 'immediate need of...</td>\n",
       "      <td>6 Sep 2019</td>\n",
       "    </tr>\n",
       "    <tr>\n",
       "      <th>19</th>\n",
       "      <td>'Everything is destroyed': 30 dead in Bahamas ...</td>\n",
       "      <td>6 Sep 2019</td>\n",
       "    </tr>\n",
       "  </tbody>\n",
       "</table>\n",
       "</div>"
      ],
      "text/plain": [
       "                                                title            date\n",
       "0   Weatherwatch: winter storms and strong winds s...     4 Dec 2019 \n",
       "1   New England: travel havoc and school closures ...     3 Dec 2019 \n",
       "2   Thanksgiving storm brings snow, sleet and wind...     2 Dec 2019 \n",
       "3   Deadly storm disrupting Thanksgiving travel ac...     1 Dec 2019 \n",
       "4   Powerful storm threatens travel for millions h...    30 Nov 2019 \n",
       "5   Parts of US brace for heavy snow as storm syst...    29 Nov 2019 \n",
       "6   Thanksgiving weather: storms now threaten post...    28 Nov 2019 \n",
       "7   'Bomb cyclone' storm expected to upend Thanksg...    27 Nov 2019 \n",
       "8   Millions set for Thanksgiving disruption as st...    26 Nov 2019 \n",
       "9   Arctic blast grips eastern US as cities reach ...    13 Nov 2019 \n",
       "10  Air from Siberia to send temperatures plunging...     9 Nov 2019 \n",
       "11  Governor says California could take over PG&E ...     2 Nov 2019 \n",
       "12  Weatherwatch: Greek storms, US heatwave and Hu...     9 Oct 2019 \n",
       "13  Weatherwatch: the popularity of the old-fashio...     4 Oct 2019 \n",
       "14  Major snow dump in western states brings taste...    30 Sep 2019 \n",
       "15  Weatherwatch: why slow-motion natural disaster...    16 Sep 2019 \n",
       "16  Top weather official who defended 'Sharpiegate...    10 Sep 2019 \n",
       "17  'Sharpiegate': meteorologists upset as weather...     7 Sep 2019 \n",
       "18  Hurricane Dorian: 70,000 in 'immediate need of...     6 Sep 2019 \n",
       "19  'Everything is destroyed': 30 dead in Bahamas ...     6 Sep 2019 "
      ]
     },
     "execution_count": 6,
     "metadata": {},
     "output_type": "execute_result"
    }
   ],
   "source": [
    "import pandas as pd\n",
    "weather_news = pd.DataFrame({\n",
    "    \"title\": unique_title,\n",
    "    \"date\": date\n",
    "})\n",
    "export_csv = weather_news.to_csv (r'D:\\Desktop\\Unstructured_Data.csv', index = None, header=True)\n",
    "weather_news"
   ]
  },
  {
   "cell_type": "code",
   "execution_count": null,
   "metadata": {},
   "outputs": [],
   "source": []
  },
  {
   "cell_type": "code",
   "execution_count": null,
   "metadata": {},
   "outputs": [],
   "source": []
  }
 ],
 "metadata": {
  "kernelspec": {
   "display_name": "Python 3",
   "language": "python",
   "name": "python3"
  },
  "language_info": {
   "codemirror_mode": {
    "name": "ipython",
    "version": 3
   },
   "file_extension": ".py",
   "mimetype": "text/x-python",
   "name": "python",
   "nbconvert_exporter": "python",
   "pygments_lexer": "ipython3",
   "version": "3.7.3"
  }
 },
 "nbformat": 4,
 "nbformat_minor": 2
}
